{
 "cells": [
  {
   "cell_type": "code",
   "execution_count": 1,
   "metadata": {},
   "outputs": [
    {
     "name": "stdout",
     "output_type": "stream",
     "text": [
      "Collecting pandas_profiling\n",
      "  Downloading pandas_profiling-3.1.0-py2.py3-none-any.whl (261 kB)\n",
      "Requirement already satisfied: pydantic>=1.8.1 in c:\\users\\matiaspoblete\\anaconda3\\envs\\stdevv\\lib\\site-packages (from pandas_profiling) (1.9.0)\n",
      "Collecting joblib~=1.0.1\n",
      "  Downloading joblib-1.0.1-py3-none-any.whl (303 kB)\n",
      "Collecting PyYAML>=5.0.0\n",
      "  Using cached PyYAML-6.0-cp38-cp38-win_amd64.whl (155 kB)\n",
      "Collecting phik>=0.11.1\n",
      "  Downloading phik-0.12.2-cp38-cp38-win_amd64.whl (677 kB)\n",
      "Collecting tangled-up-in-unicode==0.1.0\n",
      "  Downloading tangled_up_in_unicode-0.1.0-py3-none-any.whl (3.1 MB)\n",
      "Requirement already satisfied: seaborn>=0.10.1 in c:\\users\\matiaspoblete\\anaconda3\\envs\\stdevv\\lib\\site-packages (from pandas_profiling) (0.11.2)\n",
      "Requirement already satisfied: jinja2>=2.11.1 in c:\\users\\matiaspoblete\\anaconda3\\envs\\stdevv\\lib\\site-packages (from pandas_profiling) (3.0.3)\n",
      "Collecting multimethod>=1.4\n",
      "  Downloading multimethod-1.7-py3-none-any.whl (9.5 kB)\n",
      "Requirement already satisfied: matplotlib>=3.2.0 in c:\\users\\matiaspoblete\\anaconda3\\envs\\stdevv\\lib\\site-packages (from pandas_profiling) (3.5.1)\n",
      "Requirement already satisfied: pandas!=1.0.0,!=1.0.1,!=1.0.2,!=1.1.0,>=0.25.3 in c:\\users\\matiaspoblete\\anaconda3\\envs\\stdevv\\lib\\site-packages (from pandas_profiling) (1.1.5)\n",
      "Collecting visions[type_image_path]==0.7.4\n",
      "  Downloading visions-0.7.4-py3-none-any.whl (102 kB)\n",
      "Requirement already satisfied: tqdm>=4.48.2 in c:\\users\\matiaspoblete\\anaconda3\\envs\\stdevv\\lib\\site-packages (from pandas_profiling) (4.63.0)\n",
      "Collecting markupsafe~=2.0.1\n",
      "  Using cached MarkupSafe-2.0.1-cp38-cp38-win_amd64.whl (14 kB)\n",
      "Requirement already satisfied: numpy>=1.16.0 in c:\\users\\matiaspoblete\\anaconda3\\envs\\stdevv\\lib\\site-packages (from pandas_profiling) (1.22.3)\n",
      "Requirement already satisfied: scipy>=1.4.1 in c:\\users\\matiaspoblete\\anaconda3\\envs\\stdevv\\lib\\site-packages (from pandas_profiling) (1.8.0)\n",
      "Collecting htmlmin>=0.1.12\n",
      "  Downloading htmlmin-0.1.12.tar.gz (19 kB)\n",
      "Collecting missingno>=0.4.2\n",
      "  Downloading missingno-0.5.1-py3-none-any.whl (8.7 kB)\n",
      "Requirement already satisfied: requests>=2.24.0 in c:\\users\\matiaspoblete\\anaconda3\\envs\\stdevv\\lib\\site-packages (from pandas_profiling) (2.25.1)\n",
      "Requirement already satisfied: attrs>=19.3.0 in c:\\users\\matiaspoblete\\anaconda3\\envs\\stdevv\\lib\\site-packages (from visions[type_image_path]==0.7.4->pandas_profiling) (21.4.0)\n",
      "Requirement already satisfied: networkx>=2.4 in c:\\users\\matiaspoblete\\anaconda3\\envs\\stdevv\\lib\\site-packages (from visions[type_image_path]==0.7.4->pandas_profiling) (2.7.1)\n",
      "Collecting imagehash\n",
      "  Downloading ImageHash-4.2.1.tar.gz (812 kB)\n",
      "Requirement already satisfied: Pillow in c:\\users\\matiaspoblete\\anaconda3\\envs\\stdevv\\lib\\site-packages (from visions[type_image_path]==0.7.4->pandas_profiling) (9.0.1)\n",
      "Requirement already satisfied: pyparsing>=2.2.1 in c:\\users\\matiaspoblete\\anaconda3\\envs\\stdevv\\lib\\site-packages (from matplotlib>=3.2.0->pandas_profiling) (3.0.7)\n",
      "Requirement already satisfied: cycler>=0.10 in c:\\users\\matiaspoblete\\anaconda3\\envs\\stdevv\\lib\\site-packages (from matplotlib>=3.2.0->pandas_profiling) (0.11.0)\n",
      "Requirement already satisfied: kiwisolver>=1.0.1 in c:\\users\\matiaspoblete\\anaconda3\\envs\\stdevv\\lib\\site-packages (from matplotlib>=3.2.0->pandas_profiling) (1.3.2)\n",
      "Requirement already satisfied: fonttools>=4.22.0 in c:\\users\\matiaspoblete\\anaconda3\\envs\\stdevv\\lib\\site-packages (from matplotlib>=3.2.0->pandas_profiling) (4.30.0)\n",
      "Requirement already satisfied: python-dateutil>=2.7 in c:\\users\\matiaspoblete\\anaconda3\\envs\\stdevv\\lib\\site-packages (from matplotlib>=3.2.0->pandas_profiling) (2.8.2)\n",
      "Requirement already satisfied: packaging>=20.0 in c:\\users\\matiaspoblete\\anaconda3\\envs\\stdevv\\lib\\site-packages (from matplotlib>=3.2.0->pandas_profiling) (21.3)\n",
      "Requirement already satisfied: pytz>=2017.2 in c:\\users\\matiaspoblete\\anaconda3\\envs\\stdevv\\lib\\site-packages (from pandas!=1.0.0,!=1.0.1,!=1.0.2,!=1.1.0,>=0.25.3->pandas_profiling) (2021.3)\n",
      "Requirement already satisfied: typing-extensions>=3.7.4.3 in c:\\users\\matiaspoblete\\anaconda3\\envs\\stdevv\\lib\\site-packages (from pydantic>=1.8.1->pandas_profiling) (4.1.1)\n",
      "Requirement already satisfied: six>=1.5 in c:\\users\\matiaspoblete\\anaconda3\\envs\\stdevv\\lib\\site-packages (from python-dateutil>=2.7->matplotlib>=3.2.0->pandas_profiling) (1.16.0)\n",
      "Requirement already satisfied: urllib3<1.27,>=1.21.1 in c:\\users\\matiaspoblete\\anaconda3\\envs\\stdevv\\lib\\site-packages (from requests>=2.24.0->pandas_profiling) (1.26.8)\n",
      "Requirement already satisfied: chardet<5,>=3.0.2 in c:\\users\\matiaspoblete\\anaconda3\\envs\\stdevv\\lib\\site-packages (from requests>=2.24.0->pandas_profiling) (4.0.0)\n",
      "Requirement already satisfied: idna<3,>=2.5 in c:\\users\\matiaspoblete\\anaconda3\\envs\\stdevv\\lib\\site-packages (from requests>=2.24.0->pandas_profiling) (2.10)\n",
      "Requirement already satisfied: certifi>=2017.4.17 in c:\\users\\matiaspoblete\\anaconda3\\envs\\stdevv\\lib\\site-packages (from requests>=2.24.0->pandas_profiling) (2021.10.8)\n",
      "Requirement already satisfied: colorama in c:\\users\\matiaspoblete\\anaconda3\\envs\\stdevv\\lib\\site-packages (from tqdm>=4.48.2->pandas_profiling) (0.4.4)\n",
      "Requirement already satisfied: PyWavelets in c:\\users\\matiaspoblete\\anaconda3\\envs\\stdevv\\lib\\site-packages (from imagehash->visions[type_image_path]==0.7.4->pandas_profiling) (1.2.0)\n",
      "Building wheels for collected packages: htmlmin, imagehash\n",
      "  Building wheel for htmlmin (setup.py): started\n",
      "  Building wheel for htmlmin (setup.py): finished with status 'done'\n",
      "  Created wheel for htmlmin: filename=htmlmin-0.1.12-py3-none-any.whl size=27098 sha256=2ddd561d15f62e4621eabaa86ca69ed3adbaf199149c8bcc48ef3a3576dcf2bd\n",
      "  Stored in directory: c:\\users\\matiaspoblete\\appdata\\local\\pip\\cache\\wheels\\23\\14\\6e\\4be5bfeeb027f4939a01764b48edd5996acf574b0913fe5243\n",
      "  Building wheel for imagehash (setup.py): started\n",
      "  Building wheel for imagehash (setup.py): finished with status 'done'\n",
      "  Created wheel for imagehash: filename=ImageHash-4.2.1-py2.py3-none-any.whl size=295206 sha256=0bfb6e4f829bbc042cc7242247d3c216090bbdd9403698a4b2f9c03e199c94b2\n"
     ]
    }
   ],
   "source": [
    "!pip install pandas_profiling"
   ]
  },
  {
   "cell_type": "code",
   "execution_count": 5,
   "metadata": {},
   "outputs": [
    {
     "name": "stderr",
     "output_type": "stream",
     "text": [
      "Summarize dataset: 100%|██████████| 33/33 [00:08<00:00,  3.96it/s, Completed]                     \n",
      "Generate report structure: 100%|██████████| 1/1 [00:03<00:00,  3.78s/it]\n",
      "Render HTML: 100%|██████████| 1/1 [00:01<00:00,  1.03s/it]\n",
      "Export report to file: 100%|██████████| 1/1 [00:00<00:00, 151.36it/s]\n"
     ]
    }
   ],
   "source": [
    "import pandas_profiling\n",
    "from pandas_profiling import ProfileReport\n",
    "import pandas as pd\n",
    "\n",
    "df = pd.read_csv('https://raw.githubusercontent.com/selva86/datasets/master/mpg_ggplot2.csv')\n",
    "profile = ProfileReport(df, explorative=True, dark_mode=True)\n",
    "profile.to_file('output.html')"
   ]
  },
  {
   "cell_type": "code",
   "execution_count": 8,
   "metadata": {},
   "outputs": [
    {
     "name": "stdout",
     "output_type": "stream",
     "text": [
      "Requirement already satisfied: dtale in c:\\users\\matiaspoblete\\anaconda3\\envs\\stdevv\\lib\\site-packages (2.2.0)\n",
      "Requirement already satisfied: missingno<=0.4.2 in c:\\users\\matiaspoblete\\anaconda3\\envs\\stdevv\\lib\\site-packages (from dtale) (0.4.2)\n",
      "Requirement already satisfied: dash-bootstrap-components in c:\\users\\matiaspoblete\\anaconda3\\envs\\stdevv\\lib\\site-packages (from dtale) (1.1.0)\n",
      "Requirement already satisfied: openpyxl in c:\\users\\matiaspoblete\\anaconda3\\envs\\stdevv\\lib\\site-packages (from dtale) (3.0.9)\n",
      "Requirement already satisfied: Flask in c:\\users\\matiaspoblete\\anaconda3\\envs\\stdevv\\lib\\site-packages (from dtale) (2.1.1)\n",
      "Requirement already satisfied: scikit-learn==0.24.2 in c:\\users\\matiaspoblete\\anaconda3\\envs\\stdevv\\lib\\site-packages (from dtale) (0.24.2)\n",
      "Requirement already satisfied: xarray in c:\\users\\matiaspoblete\\anaconda3\\envs\\stdevv\\lib\\site-packages (from dtale) (2022.3.0)\n",
      "Requirement already satisfied: flask-ngrok in c:\\users\\matiaspoblete\\anaconda3\\envs\\stdevv\\lib\\site-packages (from dtale) (0.0.25)\n",
      "Requirement already satisfied: requests in c:\\users\\matiaspoblete\\anaconda3\\envs\\stdevv\\lib\\site-packages (from dtale) (2.25.1)\n",
      "Requirement already satisfied: strsimpy in c:\\users\\matiaspoblete\\anaconda3\\envs\\stdevv\\lib\\site-packages (from dtale) (0.2.1)\n",
      "Requirement already satisfied: networkx in c:\\users\\matiaspoblete\\anaconda3\\envs\\stdevv\\lib\\site-packages (from dtale) (2.7.1)\n",
      "Requirement already satisfied: six in c:\\users\\matiaspoblete\\anaconda3\\envs\\stdevv\\lib\\site-packages (from dtale) (1.16.0)\n",
      "Requirement already satisfied: statsmodels in c:\\users\\matiaspoblete\\anaconda3\\envs\\stdevv\\lib\\site-packages (from dtale) (0.13.2)\n",
      "Requirement already satisfied: dash-daq in c:\\users\\matiaspoblete\\anaconda3\\envs\\stdevv\\lib\\site-packages (from dtale) (0.5.0)\n",
      "Requirement already satisfied: plotly>=5.0.0 in c:\\users\\matiaspoblete\\anaconda3\\envs\\stdevv\\lib\\site-packages (from dtale) (5.6.0)\n",
      "Requirement already satisfied: pandas in c:\\users\\matiaspoblete\\anaconda3\\envs\\stdevv\\lib\\site-packages (from dtale) (1.1.5)\n",
      "Requirement already satisfied: itsdangerous in c:\\users\\matiaspoblete\\anaconda3\\envs\\stdevv\\lib\\site-packages (from dtale) (2.1.2)\n",
      "Requirement already satisfied: kaleido in c:\\users\\matiaspoblete\\anaconda3\\envs\\stdevv\\lib\\site-packages (from dtale) (0.2.1)\n",
      "Requirement already satisfied: dash>=2.0.0 in c:\\users\\matiaspoblete\\anaconda3\\envs\\stdevv\\lib\\site-packages (from dtale) (2.3.1)\n",
      "Requirement already satisfied: squarify in c:\\users\\matiaspoblete\\anaconda3\\envs\\stdevv\\lib\\site-packages (from dtale) (0.4.3)\n",
      "Requirement already satisfied: seaborn in c:\\users\\matiaspoblete\\anaconda3\\envs\\stdevv\\lib\\site-packages (from dtale) (0.11.2)\n",
      "Requirement already satisfied: xlrd in c:\\users\\matiaspoblete\\anaconda3\\envs\\stdevv\\lib\\site-packages (from dtale) (2.0.1)\n",
      "Requirement already satisfied: matplotlib in c:\\users\\matiaspoblete\\anaconda3\\envs\\stdevv\\lib\\site-packages (from dtale) (3.5.1)\n",
      "Requirement already satisfied: cycler in c:\\users\\matiaspoblete\\anaconda3\\envs\\stdevv\\lib\\site-packages (from dtale) (0.11.0)\n",
      "Requirement already satisfied: dash-colorscales in c:\\users\\matiaspoblete\\anaconda3\\envs\\stdevv\\lib\\site-packages (from dtale) (0.0.4)\n",
      "Requirement already satisfied: future>=0.14.0 in c:\\users\\matiaspoblete\\anaconda3\\envs\\stdevv\\lib\\site-packages (from dtale) (0.18.2)\n",
      "Requirement already satisfied: ppscore in c:\\users\\matiaspoblete\\anaconda3\\envs\\stdevv\\lib\\site-packages (from dtale) (1.2.0)\n",
      "Requirement already satisfied: scipy in c:\\users\\matiaspoblete\\anaconda3\\envs\\stdevv\\lib\\site-packages (from dtale) (1.8.0)\n",
      "Requirement already satisfied: et-xmlfile in c:\\users\\matiaspoblete\\anaconda3\\envs\\stdevv\\lib\\site-packages (from dtale) (1.1.0)\n",
      "Requirement already satisfied: lz4 in c:\\users\\matiaspoblete\\anaconda3\\envs\\stdevv\\lib\\site-packages (from dtale) (4.0.0)\n",
      "Requirement already satisfied: Flask-Compress in c:\\users\\matiaspoblete\\anaconda3\\envs\\stdevv\\lib\\site-packages (from dtale) (1.11)\n",
      "Requirement already satisfied: numpy in c:\\users\\matiaspoblete\\anaconda3\\envs\\stdevv\\lib\\site-packages (from dtale) (1.22.3)\n",
      "Requirement already satisfied: joblib>=0.11 in c:\\users\\matiaspoblete\\anaconda3\\envs\\stdevv\\lib\\site-packages (from scikit-learn==0.24.2->dtale) (1.0.1)\n",
      "Requirement already satisfied: threadpoolctl>=2.0.0 in c:\\users\\matiaspoblete\\anaconda3\\envs\\stdevv\\lib\\site-packages (from scikit-learn==0.24.2->dtale) (3.1.0)\n",
      "Requirement already satisfied: dash-core-components==2.0.0 in c:\\users\\matiaspoblete\\anaconda3\\envs\\stdevv\\lib\\site-packages (from dash>=2.0.0->dtale) (2.0.0)\n",
      "Requirement already satisfied: dash-table==5.0.0 in c:\\users\\matiaspoblete\\anaconda3\\envs\\stdevv\\lib\\site-packages (from dash>=2.0.0->dtale) (5.0.0)\n",
      "Requirement already satisfied: dash-html-components==2.0.0 in c:\\users\\matiaspoblete\\anaconda3\\envs\\stdevv\\lib\\site-packages (from dash>=2.0.0->dtale) (2.0.0)\n",
      "Requirement already satisfied: click>=8.0 in c:\\users\\matiaspoblete\\anaconda3\\envs\\stdevv\\lib\\site-packages (from Flask->dtale) (8.0.4)\n",
      "Requirement already satisfied: Jinja2>=3.0 in c:\\users\\matiaspoblete\\anaconda3\\envs\\stdevv\\lib\\site-packages (from Flask->dtale) (3.0.3)\n",
      "Requirement already satisfied: importlib-metadata>=3.6.0 in c:\\users\\matiaspoblete\\anaconda3\\envs\\stdevv\\lib\\site-packages (from Flask->dtale) (4.11.2)\n",
      "Requirement already satisfied: Werkzeug>=2.0 in c:\\users\\matiaspoblete\\anaconda3\\envs\\stdevv\\lib\\site-packages (from Flask->dtale) (2.0.3)\n",
      "Requirement already satisfied: colorama in c:\\users\\matiaspoblete\\anaconda3\\envs\\stdevv\\lib\\site-packages (from click>=8.0->Flask->dtale) (0.4.4)\n",
      "Requirement already satisfied: zipp>=0.5 in c:\\users\\matiaspoblete\\anaconda3\\envs\\stdevv\\lib\\site-packages (from importlib-metadata>=3.6.0->Flask->dtale) (3.7.0)\n",
      "Requirement already satisfied: MarkupSafe>=2.0 in c:\\users\\matiaspoblete\\anaconda3\\envs\\stdevv\\lib\\site-packages (from Jinja2>=3.0->Flask->dtale) (2.0.1)\n",
      "Requirement already satisfied: tenacity>=6.2.0 in c:\\users\\matiaspoblete\\anaconda3\\envs\\stdevv\\lib\\site-packages (from plotly>=5.0.0->dtale) (8.0.1)\n",
      "Requirement already satisfied: brotli in c:\\users\\matiaspoblete\\anaconda3\\envs\\stdevv\\lib\\site-packages (from Flask-Compress->dtale) (1.0.9)\n",
      "Requirement already satisfied: packaging>=20.0 in c:\\users\\matiaspoblete\\anaconda3\\envs\\stdevv\\lib\\site-packages (from matplotlib->dtale) (21.3)\n",
      "Requirement already satisfied: pillow>=6.2.0 in c:\\users\\matiaspoblete\\anaconda3\\envs\\stdevv\\lib\\site-packages (from matplotlib->dtale) (9.0.1)\n",
      "Requirement already satisfied: pyparsing>=2.2.1 in c:\\users\\matiaspoblete\\anaconda3\\envs\\stdevv\\lib\\site-packages (from matplotlib->dtale) (3.0.7)\n",
      "Requirement already satisfied: python-dateutil>=2.7 in c:\\users\\matiaspoblete\\anaconda3\\envs\\stdevv\\lib\\site-packages (from matplotlib->dtale) (2.8.2)\n",
      "Requirement already satisfied: fonttools>=4.22.0 in c:\\users\\matiaspoblete\\anaconda3\\envs\\stdevv\\lib\\site-packages (from matplotlib->dtale) (4.30.0)\n",
      "Requirement already satisfied: kiwisolver>=1.0.1 in c:\\users\\matiaspoblete\\anaconda3\\envs\\stdevv\\lib\\site-packages (from matplotlib->dtale) (1.3.2)\n",
      "Requirement already satisfied: pytz>=2017.2 in c:\\users\\matiaspoblete\\anaconda3\\envs\\stdevv\\lib\\site-packages (from pandas->dtale) (2021.3)\n",
      "Requirement already satisfied: chardet<5,>=3.0.2 in c:\\users\\matiaspoblete\\anaconda3\\envs\\stdevv\\lib\\site-packages (from requests->dtale) (4.0.0)\n",
      "Requirement already satisfied: idna<3,>=2.5 in c:\\users\\matiaspoblete\\anaconda3\\envs\\stdevv\\lib\\site-packages (from requests->dtale) (2.10)\n",
      "Requirement already satisfied: urllib3<1.27,>=1.21.1 in c:\\users\\matiaspoblete\\anaconda3\\envs\\stdevv\\lib\\site-packages (from requests->dtale) (1.26.8)\n",
      "Requirement already satisfied: certifi>=2017.4.17 in c:\\users\\matiaspoblete\\anaconda3\\envs\\stdevv\\lib\\site-packages (from requests->dtale) (2021.10.8)\n",
      "Requirement already satisfied: patsy>=0.5.2 in c:\\users\\matiaspoblete\\anaconda3\\envs\\stdevv\\lib\\site-packages (from statsmodels->dtale) (0.5.2)\n"
     ]
    }
   ],
   "source": [
    "$pip install dtale"
   ]
  },
  {
   "cell_type": "code",
   "execution_count": 9,
   "metadata": {},
   "outputs": [
    {
     "data": {
      "text/html": [
       "\n",
       "        <iframe\n",
       "            width=\"100%\"\n",
       "            height=\"475\"\n",
       "            src=\"http://DESKTOP-LQNA4AT:40000/dtale/iframe/1\"\n",
       "            frameborder=\"0\"\n",
       "            allowfullscreen\n",
       "            \n",
       "        ></iframe>\n",
       "        "
      ],
      "text/plain": [
       "<IPython.lib.display.IFrame at 0x1786414b790>"
      ]
     },
     "metadata": {},
     "output_type": "display_data"
    },
    {
     "data": {
      "text/plain": []
     },
     "execution_count": 9,
     "metadata": {},
     "output_type": "execute_result"
    }
   ],
   "source": [
    "import dtale \n",
    "dtale.show(df)"
   ]
  }
 ],
 "metadata": {
  "interpreter": {
   "hash": "a46684e0977fb922af72194fdd1d66df738cc6838a7794503f2545938366176c"
  },
  "kernelspec": {
   "display_name": "Python 3.8.12 ('stdevv')",
   "language": "python",
   "name": "python3"
  },
  "language_info": {
   "codemirror_mode": {
    "name": "ipython",
    "version": 3
   },
   "file_extension": ".py",
   "mimetype": "text/x-python",
   "name": "python",
   "nbconvert_exporter": "python",
   "pygments_lexer": "ipython3",
   "version": "3.8.12"
  },
  "orig_nbformat": 4
 },
 "nbformat": 4,
 "nbformat_minor": 2
}
